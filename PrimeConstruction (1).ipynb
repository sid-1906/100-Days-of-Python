{
 "cells": [
  {
   "cell_type": "code",
   "execution_count": 3,
   "id": "85711711",
   "metadata": {},
   "outputs": [
    {
     "name": "stdout",
     "output_type": "stream",
     "text": [
      "1 4 7 3\n",
      "337\n"
     ]
    }
   ],
   "source": [
    "def is_prime(num):\n",
    "    if num <= 1:\n",
    "        return False\n",
    "    if num == 2:\n",
    "        return True\n",
    "    if num % 2 == 0:\n",
    "        return False\n",
    "    for i in range(3, int(num**0.5) + 1, 2):\n",
    "        if num % i == 0:\n",
    "            return False\n",
    "    return True\n",
    "\n",
    "def find_smallest_prime(input_numbers):\n",
    "    q = min(input_numbers)\n",
    "    for p in range(q, 10**10, q):\n",
    "        if all(p % num == q for num in input_numbers if num != q) and is_prime(p):\n",
    "            return p\n",
    "    return \"None\"\n",
    "\n",
    "# Read input\n",
    "input_numbers = list(map(int, input().split()))\n",
    "\n",
    "# Call the function to find the smallest prime\n",
    "result = find_smallest_prime(input_numbers)\n",
    "\n",
    "# Print the result\n",
    "print(result)\n"
   ]
  },
  {
   "cell_type": "code",
   "execution_count": null,
   "id": "1d89f4c1",
   "metadata": {},
   "outputs": [],
   "source": []
  }
 ],
 "metadata": {
  "kernelspec": {
   "display_name": "Python 3 (ipykernel)",
   "language": "python",
   "name": "python3"
  },
  "language_info": {
   "codemirror_mode": {
    "name": "ipython",
    "version": 3
   },
   "file_extension": ".py",
   "mimetype": "text/x-python",
   "name": "python",
   "nbconvert_exporter": "python",
   "pygments_lexer": "ipython3",
   "version": "3.9.7"
  }
 },
 "nbformat": 4,
 "nbformat_minor": 5
}
