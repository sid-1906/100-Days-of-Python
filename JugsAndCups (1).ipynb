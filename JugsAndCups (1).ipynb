{
 "cells": [
  {
   "cell_type": "code",
   "execution_count": 2,
   "id": "1658b5bc",
   "metadata": {},
   "outputs": [
    {
     "ename": "SyntaxError",
     "evalue": "unexpected EOF while parsing (Temp/ipykernel_14736/437545904.py, line 30)",
     "output_type": "error",
     "traceback": [
      "\u001b[1;36m  File \u001b[1;32m\"C:\\Users\\siddh\\AppData\\Local\\Temp/ipykernel_14736/437545904.py\"\u001b[1;36m, line \u001b[1;32m30\u001b[0m\n\u001b[1;33m    print(' '.join(map(str, cup_counts)\u001b[0m\n\u001b[1;37m                                       ^\u001b[0m\n\u001b[1;31mSyntaxError\u001b[0m\u001b[1;31m:\u001b[0m unexpected EOF while parsing\n"
     ]
    }
   ],
   "source": [
    "def fill_jug(cup_sizes, jug_capacity):\n",
    "    # Sort cup sizes in descending order\n",
    "    cup_sizes.sort(reverse=True)\n",
    "    \n",
    "    selected_cups = []\n",
    "    cup_counts = []\n",
    "    remaining_capacity = jug_capacity\n",
    "\n",
    "    for cup in cup_sizes:\n",
    "        while remaining_capacity >= cup:\n",
    "            selected_cups.append(cup)\n",
    "            remaining_capacity -= cup\n",
    "\n",
    "    # Count the number of times each cup size is used\n",
    "    for cup in set(selected_cups):\n",
    "        cup_counts.append(selected_cups.count(cup))\n",
    "\n",
    "    return selected_cups, cup_counts\n",
    "\n",
    "# Read input\n",
    "N = int(input())\n",
    "cup_sizes = list(map(int, input().split()))\n",
    "L = int(input())\n",
    "\n",
    "# Call the function to fill the jug\n",
    "selected_cups, cup_counts = fill_jug(cup_sizes, L)\n",
    "\n",
    "# Print the selected cups and their counts\n",
    "print(' '.join(map(str, selected_cups)))\n",
    "print(' '.join(map(str, cup_counts))\n"
   ]
  },
  {
   "cell_type": "code",
   "execution_count": null,
   "id": "47b7bda4",
   "metadata": {},
   "outputs": [],
   "source": []
  }
 ],
 "metadata": {
  "kernelspec": {
   "display_name": "Python 3 (ipykernel)",
   "language": "python",
   "name": "python3"
  },
  "language_info": {
   "codemirror_mode": {
    "name": "ipython",
    "version": 3
   },
   "file_extension": ".py",
   "mimetype": "text/x-python",
   "name": "python",
   "nbconvert_exporter": "python",
   "pygments_lexer": "ipython3",
   "version": "3.9.7"
  }
 },
 "nbformat": 4,
 "nbformat_minor": 5
}
