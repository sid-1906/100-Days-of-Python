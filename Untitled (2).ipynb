{
 "cells": [
  {
   "cell_type": "code",
   "execution_count": 5,
   "id": "6c433f06",
   "metadata": {},
   "outputs": [
    {
     "name": "stdout",
     "output_type": "stream",
     "text": [
      "5x 0 = 0\n",
      "5x 1 = 5\n",
      "5x 2 = 10\n",
      "5x 3 = 15\n",
      "5x 4 = 20\n",
      "5x 5 = 25\n",
      "5x 6 = 30\n",
      "5x 7 = 35\n",
      "5x 8 = 40\n",
      "5x 9 = 45\n"
     ]
    }
   ],
   "source": [
    "for i in range(12):\n",
    "    if(i==10):\n",
    "        break\n",
    "    print(\"5x\",i,\"=\",5*i)"
   ]
  },
  {
   "cell_type": "code",
   "execution_count": 3,
   "id": "b0adb6e1",
   "metadata": {},
   "outputs": [
    {
     "name": "stdout",
     "output_type": "stream",
     "text": [
      "25\n"
     ]
    }
   ],
   "source": [
    "def square(n):\n",
    "   \n",
    "    print(n**2)\n",
    "square(5)    \n",
    "    "
   ]
  },
  {
   "cell_type": "code",
   "execution_count": 5,
   "id": "ccdd50d3",
   "metadata": {},
   "outputs": [
    {
     "name": "stdout",
     "output_type": "stream",
     "text": [
      "3\n"
     ]
    }
   ],
   "source": [
    "def fedo(n):\n",
    "    if(n == 0):\n",
    "        return 0\n",
    "    elif(n == 1):\n",
    "        return 1\n",
    "    else:\n",
    "        return fedo(n-1) + fedo(n-2)\n",
    "   \n",
    "print(fedo(4))"
   ]
  },
  {
   "cell_type": "code",
   "execution_count": null,
   "id": "117c3a2e",
   "metadata": {},
   "outputs": [],
   "source": []
  }
 ],
 "metadata": {
  "kernelspec": {
   "display_name": "Python 3 (ipykernel)",
   "language": "python",
   "name": "python3"
  },
  "language_info": {
   "codemirror_mode": {
    "name": "ipython",
    "version": 3
   },
   "file_extension": ".py",
   "mimetype": "text/x-python",
   "name": "python",
   "nbconvert_exporter": "python",
   "pygments_lexer": "ipython3",
   "version": "3.9.7"
  }
 },
 "nbformat": 4,
 "nbformat_minor": 5
}
